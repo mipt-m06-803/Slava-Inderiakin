{
 "cells": [
  {
   "cell_type": "markdown",
   "metadata": {},
   "source": [
    "# <font color=blue>Тест 10</font>\n",
    "\n",
    "<font color=red>Время выполнения: 30 мин</font>\n",
    "\n",
    "# Задача 1. Передача аргументов функции по ссылке\n",
    "\n",
    "Создайте функции `f()` и `g()`, которые будут извлекать квадратный корень из элементов списка вещественных чисел. \n",
    "\n",
    "1. Функции `f()` и `g()` принимают на вход один аргумент: список вещественных чисел `L`.\n",
    "\n",
    "2. Функция `f()` возвращает новый список, в котором будут храниться результаты, полученные при извлечении квадратного корня. Список, передаваемый функции `f()` не должен меняться.\n",
    "\n",
    "3. Функция `g()` модифицирует `L`, заменяя элементы списка квадратными корнями из них, и ничего не возвращает.\n",
    "\n",
    "4. Если число `L[i]` меньше 0, то соответствующий элемент списка с результатами равен `None`.\n",
    "\n",
    "| <font size=3>Список `L`, поданный на вход функции</font> | <font size=3>Результат работы функции</font> |\n",
    "| :---: | :---: |\n",
    "| <font size=3>`[0.0, 1.0, 4.0, -4.0]`</font> | <font size=3>`[0.0, 1.0, 2.0, None]`</font> |\n",
    "\n",
    "### Критерии\n",
    "За каждую правильно реализованную функцию начисляется 1 балл."
   ]
  },
  {
   "cell_type": "code",
   "execution_count": 5,
   "metadata": {},
   "outputs": [
    {
     "name": "stdout",
     "output_type": "stream",
     "text": [
      "[0.0, 1.0, 2.0, None]\n",
      "[0.0, 1.0, 2.0, None]\n"
     ]
    }
   ],
   "source": [
    "def f(l):\n",
    "    a = []\n",
    "    for el in l:\n",
    "        if el >= 0:\n",
    "            a.append(el**0.5)\n",
    "        else:\n",
    "            a.append(None)\n",
    "    return(a)\n",
    "        \n",
    "def g(l):\n",
    "    for i in range(len(l)):\n",
    "        if l[i] >= 0:\n",
    "            l[i] = l[i]**0.5\n",
    "        else:\n",
    "            l[i] = None\n",
    "\n",
    "L = [0.0, 1.0, 4.0, -4.0]\n",
    "print(f(L))\n",
    "g(L)\n",
    "print(L)"
   ]
  },
  {
   "cell_type": "markdown",
   "metadata": {},
   "source": [
    "# Задача 2. Проверка `None`\n",
    "\n",
    "Найдите среднее арифметическое всех элементов `L`, не равных `None`, и получите список индексов `I` элементов, равных `None`. Распечатайте среднее арифметическое не равных `None` элементов `L` и список `I`. Элементы `I` печатаются через пробел в отдельной строке. **Проверка `None` должна выполняться с помощью оператора `is` или оператора `is not`.**\n",
    "\n",
    "| <font size=3>Список `L`</font> | <font size=3>Выходные данные</font> |\n",
    "| :---: | :---: |\n",
    "| <font size=3>`[None, 3, 5, None]`</font> | <font size=3>4.0<br>0 3</font> |\n",
    "\n",
    "### Критерии\n",
    "| <font size=3>баллы</font> | <font size=3>критерий</font> |\n",
    "| :---: | :---: |\n",
    "| <font size=3>0</font> | <font size=3>решение содержит ошибку</font> |\n",
    "| <font size=3>2</font> | <font size=3>задача полностью решена</font> |"
   ]
  },
  {
   "cell_type": "code",
   "execution_count": 9,
   "metadata": {},
   "outputs": [
    {
     "name": "stdout",
     "output_type": "stream",
     "text": [
      "-4.788732394366197\n",
      "[0, 1, 5, 6, 8, 9, 12, 15, 16, 17, 22, 23, 33, 34, 38, 40, 44, 45, 50, 51, 58, 62, 66, 69, 70, 71, 83, 88, 92]\n"
     ]
    }
   ],
   "source": [
    "import random\n",
    "\n",
    "none_prob = 0.3\n",
    "L = [random.randint(-100, 100) if random.uniform(0, 1) > none_prob else None for _ in range(100)]\n",
    "\n",
    "ans = 0\n",
    "numb = 0\n",
    "I = []\n",
    "\n",
    "for i in range(100):\n",
    "    if L[i] is not None:\n",
    "        ans += L[i]\n",
    "        numb += 1\n",
    "    else:\n",
    "        I.append(i)\n",
    "\n",
    "ans = ans/numb\n",
    "print(ans)\n",
    "print(I)"
   ]
  },
  {
   "cell_type": "markdown",
   "metadata": {},
   "source": [
    "# Задача 3. Сортировка списка, содержащего `None`\n",
    "\n",
    "Отсортируйте по возрастанию список целых чисел, часть элементов которого равна `None`, с помощью встроенной функции [`sorted()`](https://docs.python.org/3/library/functions.html#sorted). Считайте, что `None` удовлетворяет неравенствам $-1< \\text{None}< 0$. \n",
    "\n",
    "#### Указания\n",
    "\n",
    "1. Используйте именованный аргумент `key` встроенной функции `sorted()`.\n",
    "\n",
    "2. Решения, в которых целые числа сортируются отдельно, а затем в полученный список вставляются `None`, не засчитываются.\n",
    "\n",
    "3. Проверка `None` должна выполняться с помощью оператора `is` или оператора `is not`.\n",
    "\n",
    "| <font size=3>Список `L`</font> | <font size=3>Выходные данные</font> |\n",
    "| :---: | :---: |\n",
    "| <font size=3>`[None, -3, 5, None, 0, -1]`</font> | <font size=3>-3 -1 None None 0 5</font> |\n",
    "\n",
    "### Критерии\n",
    "| <font size=3>баллы</font> | <font size=3>критерий</font> |\n",
    "| :---: | :---: |\n",
    "| <font size=3>0</font> | <font size=3>решение содержит ошибку</font> |\n",
    "| <font size=3>2</font> | <font size=3>задача полностью решена</font> |"
   ]
  },
  {
   "cell_type": "code",
   "execution_count": 18,
   "metadata": {},
   "outputs": [
    {
     "name": "stdout",
     "output_type": "stream",
     "text": [
      "[-99, -97, -95, -92, -88, -87, -86, -86, -84, -83, -81, -76, -74, -63, -59, -50, -49, -40, -39, -37, -34, -30, -25, -25, -19, -17, -16, -16, -12, -11, -11, -11, -7, None, None, None, None, None, None, None, None, None, None, None, None, None, None, None, None, None, None, None, None, None, None, None, None, None, None, None, 2, 3, 4, 8, 10, 16, 17, 18, 18, 19, 21, 24, 28, 35, 36, 37, 39, 42, 47, 49, 51, 54, 58, 59, 62, 63, 63, 66, 67, 70, 71, 73, 74, 76, 77, 78, 81, 84, 94, 96]\n"
     ]
    }
   ],
   "source": [
    "import random\n",
    "\n",
    "none_prob = 0.3\n",
    "L = [random.randint(-100, 100) if random.uniform(0, 1) > none_prob else None for _ in range(100)]\n",
    "\n",
    "def f(x):\n",
    "    if x == None:\n",
    "        return(-0.5)\n",
    "    else:\n",
    "        return(x)\n",
    "\n",
    "S = sorted(L, key = f)\n",
    "print(S)"
   ]
  },
  {
   "cell_type": "markdown",
   "metadata": {},
   "source": [
    "# Задача 4. Шахматный слон\n",
    "\n",
    "Шахматный слон ходит по диагонали. Даны две различные клетки шахматной доски, определите, может ли слон попасть с первой клетки на вторую одним ходом. Программа получает на вход четыре числа от 1 до 8 каждое, задающие номер столбца и номер строки сначала для первой клетки, потом для второй клетки. Программа должна вывести YES, если из первой клетки ходом слона можно попасть во вторую или NO в противном случае.\n",
    "\n",
    "Для простоты можно не рассматривать случай, когда данные клетки совпадают.\n",
    "\n",
    "**<font color=red>Решение не должно печатать ничего лишнего</font>**\n",
    "\n",
    "| <font size=3>Входные данные</font>      | <font size=3>Выходные данные</font>    |\n",
    "| :--- | :--- |\n",
    "| <font size=3>1 1 4 4</font> | <font size=3>YES</font> |\n",
    "| <font size=3>2 3 3 2</font> | <font size=3>YES</font> |\n",
    "| <font size=3>1 1 1 2</font> | <font size=3>NO</font> |\n",
    "\n",
    "### Критерии\n",
    "| <font size=3>баллы</font> | <font size=3>критерий</font> |\n",
    "| :---: | :---: |\n",
    "| <font size=3>0</font> | <font size=3>решение содержит ошибку</font> |\n",
    "| <font size=3>2</font> | <font size=3>задача полностью решена</font> |"
   ]
  },
  {
   "cell_type": "code",
   "execution_count": 20,
   "metadata": {},
   "outputs": [
    {
     "name": "stdout",
     "output_type": "stream",
     "text": [
      "YES\n"
     ]
    }
   ],
   "source": [
    "def Slon(a1, a2, b1, b2):\n",
    "    D = (a1 - b1)/(a2 - b2)\n",
    "    if D == 1 or D == -1:\n",
    "        return(\"YES\")\n",
    "    else:\n",
    "        return(\"NO\")\n",
    "\n",
    "print(Slon(1, 1, 4, 4))"
   ]
  },
  {
   "cell_type": "markdown",
   "metadata": {},
   "source": [
    "# Задача 5. Пользовательская сортировка\n",
    "\n",
    "Дан список целых чисел. Отсортировать его так, чтобы сначала шли по возрастанию числа вида $3 i$, затем числа вида $3 i + 1$ по убыванию и наконец числа вида $3 i + 2$ по возрастанию, где $i \\in \\mathbb{Z}$. \n",
    "\n",
    "Вход: $N$ целых чисел через пробел\n",
    "\n",
    "Выход: Отсортированный требуемым образом список. Элементы списка печатаются через пробел в одну строку.\n",
    "\n",
    "**<font color=red>Решение не должно печатать ничего лишнего</font>**\n",
    "\n",
    "| <font size=3>Входные данные</font>      | <font size=3>Выходные данные</font>    |\n",
    "| :--- | :--- |\n",
    "| <font size=3>-2 -1 0 1 2 3 4 5 6 7</font> | <font size=3>0 3 6 7 4 1 -2 -1 2 5</font> |\n",
    "\n",
    "### Критерии\n",
    "| <font size=3>баллы</font> | <font size=3>критерий</font> |\n",
    "| :---: | :---: |\n",
    "| <font size=3>0</font> | <font size=3>решение содержит ошибку</font> |\n",
    "| <font size=3>4</font> | <font size=3>задача полностью решена</font> |"
   ]
  },
  {
   "cell_type": "code",
   "execution_count": null,
   "metadata": {
    "collapsed": true
   },
   "outputs": [],
   "source": [
    "L = [0, 1, 5, 6, 8, 9, 12, 15, 16, 17, 22, 23, 33, 34, 38, 40]\n",
    "\n",
    "l1 = []\n",
    "l2 = []\n",
    "l3 = []\n",
    "\n",
    "for el in L:\n",
    "    if el % 3 == 0:\n",
    "        l1.append(el)\n",
    "    elif el % 3 == 1:\n",
    "        l2.append(el)\n",
    "    else:\n",
    "        l3.append(el)\n",
    "        \n",
    "l1 = sorted(l1)\n",
    "l2 = sorted(l2, reverse = True)\n",
    "l3 = sorted(l3)\n",
    "\n",
    "ans = []\n",
    "\n",
    "for el in l1:\n",
    "    ans.append(el)\n",
    "for el in l2:\n",
    "    ans.append(el)\n",
    "for el in l3:\n",
    "    ans.append(el)\n",
    "\n",
    "L = ans\n",
    "print(ans)"
   ]
  }
 ],
 "metadata": {
  "kernelspec": {
   "display_name": "Python 3",
   "language": "python",
   "name": "python3"
  },
  "language_info": {
   "codemirror_mode": {
    "name": "ipython",
    "version": 3
   },
   "file_extension": ".py",
   "mimetype": "text/x-python",
   "name": "python",
   "nbconvert_exporter": "python",
   "pygments_lexer": "ipython3",
   "version": "3.6.6rc1"
  }
 },
 "nbformat": 4,
 "nbformat_minor": 2
}
