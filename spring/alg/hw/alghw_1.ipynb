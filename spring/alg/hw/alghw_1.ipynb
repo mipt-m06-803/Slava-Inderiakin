{
 "cells": [
  {
   "cell_type": "markdown",
   "metadata": {},
   "source": [
    "### Упражнение 1. Списки с одинаковым содержимым\n",
    "\n",
    "Определите, содержат ли списки $A$ и $B$ из одинаковые наборы элементов.\n",
    "\n",
    "\n",
    "#### Пример\n",
    "\n",
    "| <font size=3>Входные последовательности</font> | <font size=3>Выходная последовательность</font> |\n",
    "| :---: | :---: |\n",
    "| <font size=3>1 3 1<br>1 1 3</font> | <font size=3>True</font> |\n",
    "| <font size=3>1 3 1<br>1 3 3</font> | <font size=3>False</font> |"
   ]
  },
  {
   "cell_type": "code",
   "execution_count": 19,
   "metadata": {},
   "outputs": [
    {
     "name": "stdout",
     "output_type": "stream",
     "text": [
      "[0, 0, 1, 0, 0, 3, 2, 3, 4, 2, 4, 3, 3, 1, 2, 1, 2, 0, 4, 1]\n",
      "[1, 1, 4, 2, 2, 0, 4, 3, 2, 2, 0, 1, 3, 3, 0, 0, 3, 0, 4, 1]\n",
      "True\n"
     ]
    }
   ],
   "source": [
    "import random\n",
    "alphabet = list(range(5))\n",
    "N = 20\n",
    "A = [random.choice(alphabet) for _ in range(N)]\n",
    "if random.randint(0, 2):\n",
    "    B = [random.choice(alphabet) for _ in range(N)]\n",
    "else:\n",
    "    B = A.copy()\n",
    "    random.shuffle(B)\n",
    "    \n",
    "def equality_check(a, b):\n",
    "    D = {}\n",
    "    equality_flag = True\n",
    "    for item in a:\n",
    "        if item in D.keys():\n",
    "            D[item] += 1\n",
    "        else:\n",
    "            D[item] = 1\n",
    "    for item in b:\n",
    "        if item in D.keys():\n",
    "            D[item] -= 1\n",
    "        else:\n",
    "            equality_flag = False\n",
    "    for item in D.values():\n",
    "        if not item == 0:\n",
    "            equality_flag = False\n",
    "    return(equality_flag)\n",
    "\n",
    "print(A)\n",
    "print(B)\n",
    "print(equality_check(A, B))"
   ]
  },
  {
   "cell_type": "markdown",
   "metadata": {},
   "source": [
    "### Упражнение 2. Наиболее близкие точки\n",
    "\n",
    "Дан список $A$ различных точек на коорднатной прямой. Распечатайте все пары точек, расстояние между которыми минимально."
   ]
  },
  {
   "cell_type": "code",
   "execution_count": 22,
   "metadata": {},
   "outputs": [
    {
     "name": "stdout",
     "output_type": "stream",
     "text": [
      "[47, 9, 8, 96, 54, 23, 32, 70, 67, 95, 89, 12, 85, 7, 44, 45, 94]\n",
      "[[9, 8], [8, 7], [96, 95], [95, 94], [44, 45]]\n"
     ]
    }
   ],
   "source": [
    "import random\n",
    "N = random.randint(10, 20)\n",
    "A = random.sample(range(100), N)\n",
    "\n",
    "def pair_search(a):\n",
    "    output = []\n",
    "    treashold = 100\n",
    "    for i in range(len(a)):\n",
    "        for j in range (i+1, len(a)):\n",
    "            if abs(a[i] - a[j]) < treashold:\n",
    "                output.clear()\n",
    "                output.append([a[i], a[j]])\n",
    "                treashold = abs(a[i] - a[j])\n",
    "            elif abs(a[i] - a[j]) == treashold:\n",
    "                output.append([a[i], a[j]])\n",
    "    return(output)\n",
    "\n",
    "print(pair_search(A))"
   ]
  },
  {
   "cell_type": "markdown",
   "metadata": {},
   "source": [
    "### Упражнение 3. Треугольники\n",
    "\n",
    "Заданы $N$ попарно разлиных длин отрезков. Вычислить количество способов, которыми из этих отрезков можно сложить треугольник. Возможно ли, чтобы алгоритм работал с эффективностью $O(N^2)$?"
   ]
  },
  {
   "cell_type": "code",
   "execution_count": 40,
   "metadata": {},
   "outputs": [
    {
     "name": "stdout",
     "output_type": "stream",
     "text": [
      "[82, 52, 34, 38, 46, 62, 79, 93, 56, 3]\n",
      "[3, 34, 38, 46, 52, 56, 62, 79, 82, 93]\n",
      "75\n",
      "75\n"
     ]
    }
   ],
   "source": [
    "import random\n",
    "N = random.randint(10, 20)\n",
    "A = random.sample(range(100), N)\n",
    "\n",
    "# В худшем случае будет N^3 треугольников, поэтому нельзя.\n",
    "\n",
    "def simple_triangle_counter(a):\n",
    "    counter = 0\n",
    "    for i in range(len(a)):\n",
    "        for j in range(i+1, len(a)):\n",
    "            for k in range(j+1, len(a)):\n",
    "                if a[i]+a[j] > a[k] and \\\n",
    "                   a[j]+a[k] > a[i] and \\\n",
    "                   a[k]+a[i] > a[j]:\n",
    "                    counter += 1\n",
    "    return(counter)\n",
    "\n",
    "# Можно улучшить этот алгоритм для хороших случаев.\n",
    "# Вместо .sort() можно поставить любую из функций лабы alg1.\n",
    "\n",
    "def better_triangle_counter(a):\n",
    "    counter = 0\n",
    "    a.sort()\n",
    "    for i in range(len(a)):\n",
    "        for j in range(i+1, len(a)):\n",
    "            k = j+1\n",
    "            while k < len(a) and a[i]+a[j] > a[k]:\n",
    "                counter += 1\n",
    "                k+=1\n",
    "    return(counter)\n",
    "\n",
    "print(A)\n",
    "print(sorted(A))\n",
    "print(simple_triangle_counter(A))\n",
    "print(better_triangle_counter(A))\n"
   ]
  },
  {
   "cell_type": "markdown",
   "metadata": {},
   "source": [
    "### Упражнение 4. Сортировка расческой\n",
    "\n",
    "Напишите функцию, сортирующую функцию с помощью алгоритма сортировки [расческой](https://ru.wikipedia.org/wiki/%D0%A1%D0%BE%D1%80%D1%82%D0%B8%D1%80%D0%BE%D0%B2%D0%BA%D0%B0_%D1%80%D0%B0%D1%81%D1%87%D1%91%D1%81%D0%BA%D0%BE%D0%B9)"
   ]
  },
  {
   "cell_type": "code",
   "execution_count": 42,
   "metadata": {},
   "outputs": [
    {
     "name": "stdout",
     "output_type": "stream",
     "text": [
      "[87, 24, 62, 52, 68, 38, 22, 11, 83, 43, 77, 15, 55, 40, 29]\n",
      "[11, 15, 22, 24, 29, 38, 40, 43, 52, 55, 62, 68, 77, 83, 87]\n"
     ]
    }
   ],
   "source": [
    "import random\n",
    "N = random.randint(10, 20)\n",
    "A = random.sample(range(100), N)\n",
    "\n",
    "def comb_sort(a):\n",
    "    shrink = 1.247\n",
    "    is_sorted = False\n",
    "    gap = len(a)\n",
    "    while is_sorted == False:\n",
    "        gap = int(gap/shrink)\n",
    "        if gap <= 1:\n",
    "            gap = 1\n",
    "            is_sorted = True\n",
    "        for i in range(len(a) - gap):\n",
    "            if a[i] > a[i+gap]:\n",
    "                a[i], a[i+gap] = a[i+gap], a[i]\n",
    "                is_sorted = False\n",
    "    return(a)\n",
    "\n",
    "print(A)\n",
    "print(comb_sort(A))"
   ]
  },
  {
   "cell_type": "markdown",
   "metadata": {},
   "source": [
    "### Упражнение 5. Сортировка Шелла\n",
    "\n",
    "Напишите функцию, сортирующую список с помощью алгоритма сортировки [Шелла](https://ru.wikipedia.org/wiki/%D0%A1%D0%BE%D1%80%D1%82%D0%B8%D1%80%D0%BE%D0%B2%D0%BA%D0%B0_%D0%A8%D0%B5%D0%BB%D0%BB%D0%B0). Добавьте возможность изменения длины промежутка согласно последовательностям Седжвика и Пратта."
   ]
  },
  {
   "cell_type": "code",
   "execution_count": 43,
   "metadata": {},
   "outputs": [
    {
     "name": "stdout",
     "output_type": "stream",
     "text": [
      "[1, 69, 31, 6, 74, 58, 50, 16, 39, 23]\n",
      "[1, 6, 16, 23, 31, 39, 50, 58, 69, 74]\n"
     ]
    }
   ],
   "source": [
    "import random\n",
    "N = random.randint(10, 20)\n",
    "A = random.sample(range(100), N)\n",
    "\n",
    "def shell_sort(a):\n",
    "    gap = len(a) // 2\n",
    "    while gap > 0:\n",
    "        for i in range(gap, len(a)):\n",
    "            j = i\n",
    "            while j >= gap and a[j - gap] > a[i]:\n",
    "                j -= gap\n",
    "            a[i], a[j] = a[j], a[i]\n",
    "        gap = gap // 2\n",
    "    return(a)\n",
    "\n",
    "print(A)\n",
    "print(shell_sort(A))"
   ]
  },
  {
   "cell_type": "markdown",
   "metadata": {},
   "source": [
    "### Упражнение 6. Экспериментальая оценка временной сложности алгоритма\n",
    "\n",
    "Проверьте, верны ли для реализованных Вами алгоритмов их теоретические временные сложности. Исследуйте сортировки выбором, пузырьком, вставками, расческой. Исследуйте сортировку Шелла в вариантах с последовательностями Седжвика, Пратта и в оригинальном варианте с делением длины промежутка пополам.\n",
    "\n",
    "Для того чтобы убедиться в том, что тестируемая сложность $O(f(N))$ подходит, надо изучить зависимость отношения $\\frac{T(N)}{f(N)}$ от $N$. Если $\\displaystyle\\lim_{N\\to \\infty}\\frac{T(N)}{f(N)} = С$, где $C > 0$, то сложность алгоритма не превосходит $O(f(N))$. Если $C > 0$, то сложность алгоритма - $O(f(N))$.\n",
    "\n",
    "Для квадратичных сортировок брать значения $N$, превышающие $10^5$ не следует, так как сортировка будет занимать слишком много времени. У меня сортировка пузырьком списка, состоящего из $10^5$ целых чисел заняла почти 15 мин.\n",
    "\n",
    "Для измерения времени сортировки используйте модуль [`timeit`](https://docs.python.org/3/library/timeit.html). Аргумент `stmt` функции `timeit.timeit()` содержит код, выполняемый `number` раз, после чего вычисляется среднее время его выполнения. Аргумент `setup` содержит код, который выполняется **1** раз до повторных запусков `stmt`. С помощью аргумента `globals` в `timeit.timeit()` передаются имена, необходимые для успешного выполнения `stmt` и `setup`. \n",
    "\n",
    "Обратите внимание, что в `stmt` инициализируется список `a`. Если этого не делать, то начиная со второго повторения `a` будет упорядочен до сортировки.\n",
    "\n",
    "Ниже приведен пример измерения времени сортировки с помощью метода `list.sort()`. Встроенная сортировка Python использует алгоритм [timsort](https://ru.wikipedia.org/wiki/Timsort), который сочетает в себе сортировки вставками и слиянием. Теоретическая сложность алгоритма $O(N \\cdot \\log N)$, однако у меня получилось, что сложность алгоритма ближе к $O(N \\cdot \\log ^2 N)$"
   ]
  },
  {
   "cell_type": "markdown",
   "metadata": {},
   "source": [
    "### Экспериментальая оценка временной сложности сортировки выбором"
   ]
  },
  {
   "cell_type": "code",
   "execution_count": 5,
   "metadata": {},
   "outputs": [
    {
     "name": "stdout",
     "output_type": "stream",
     "text": [
      "8 length done\n",
      "16 length done\n",
      "32 length done\n",
      "64 length done\n",
      "128 length done\n",
      "256 length done\n",
      "512 length done\n",
      "1024 length done\n",
      "2048 length done\n",
      "4096 length done\n"
     ]
    },
    {
     "data": {
      "image/png": "[encoded data removed]",
      "text/plain": [
       "<Figure size 432x288 with 1 Axes>"
      ]
     },
     "metadata": {
      "needs_background": "light"
     },
     "output_type": "display_data"
    }
   ],
   "source": [
    "# Здесь тестируем choise_sort\n",
    "# Вроде совпадает с теоритической оценкой, но  \n",
    "# брал мало num_points - уж очень долго считает\n",
    "\n",
    "import timeit\n",
    "import math\n",
    "import matplotlib.pyplot as plt\n",
    "start = 8\n",
    "factor = 2\n",
    "num_points = 12\n",
    "num_repeats = 10\n",
    "N_min = start\n",
    "N_max = start * factor**(num_points - 1)\n",
    "N_list = []\n",
    "T_list = []\n",
    "n2_list = []\n",
    "N = N_min\n",
    "setup = \"\"\"\n",
    "import random\n",
    "L=list(range(N))\n",
    "random.shuffle(L)\n",
    "\n",
    "def choise_sort(a):\n",
    "    for i in range(len(a)):\n",
    "        index_min = i\n",
    "        a_min = a[i]\n",
    "        for j in range(i, len(a)):\n",
    "            if a[j] < a_min:\n",
    "                a_min = a[j]\n",
    "                index_min = j\n",
    "        a[i], a[index_min] = a[index_min], a[i]  \n",
    "\"\"\"\n",
    "while N <= N_max:\n",
    "    T = timeit.timeit(\n",
    "        stmt=\"a = L[:];choise_sort(a)\",\n",
    "        setup=setup,\n",
    "        number=num_repeats,\n",
    "        globals=dict(N=N)\n",
    "    )\n",
    "    T_copy = timeit.timeit(\n",
    "        stmt=\"a = L[:]\",\n",
    "        setup=setup,\n",
    "        number=num_repeats,\n",
    "        globals=dict(N=N)\n",
    "    )\n",
    "    T -= T_copy\n",
    "    T /= num_repeats\n",
    "    N_list.append(N)\n",
    "    T_list.append(T)\n",
    "    n2_list.append(T / (N ** 2))\n",
    "    print(\"{} length done\".format(N))\n",
    "    N *= factor\n",
    "    \n",
    "plt.plot(N_list, n2_list)\n",
    "plt.xlabel(r\"${N}$\", fontsize=18)\n",
    "plt.ylabel(r\"$\\frac{T(N)}{N^2}$\", fontsize=18)\n",
    "plt.xscale('log')\n",
    "plt.yscale('log')\n",
    "plt.title('choise_sort: test time estimate $O(N^2)$', fontsize=16)\n",
    "plt.show()\n"
   ]
  },
  {
   "cell_type": "markdown",
   "metadata": {},
   "source": [
    "### Экспериментальая оценка временной сложности сортировки пузырьком"
   ]
  },
  {
   "cell_type": "code",
   "execution_count": 7,
   "metadata": {},
   "outputs": [
    {
     "name": "stdout",
     "output_type": "stream",
     "text": [
      "8 length done\n",
      "16 length done\n",
      "32 length done\n",
      "64 length done\n",
      "128 length done\n",
      "256 length done\n",
      "512 length done\n",
      "1024 length done\n",
      "2048 length done\n",
      "4096 length done\n",
      "8192 length done\n",
      "16384 length done\n"
     ]
    },
    {
     "data": {
      "image/png": "[encoded data removed]",
      "text/plain": [
       "<Figure size 432x288 with 1 Axes>"
      ]
     },
     "metadata": {
      "needs_background": "light"
     },
     "output_type": "display_data"
    }
   ],
   "source": [
    "# Здесь тестируем bubble_sort\n",
    "# Тоже вроде совпадает с теоритической оценкой\n",
    "\n",
    "import timeit\n",
    "import math\n",
    "import matplotlib.pyplot as plt\n",
    "start = 8\n",
    "factor = 2\n",
    "num_points = 12\n",
    "num_repeats = 10\n",
    "N_min = start\n",
    "N_max = start * factor**(num_points - 1)\n",
    "N_list = []\n",
    "T_list = []\n",
    "n2_list = []\n",
    "N = N_min\n",
    "setup = \"\"\"\n",
    "import random\n",
    "L=list(range(N))\n",
    "random.shuffle(L)\n",
    "\n",
    "def bubble_sort(a):\n",
    "    for i in range(len(a)):\n",
    "        for j in range(len(a) - 1 - i):\n",
    "            if a[i] > a[i+1]:\n",
    "                a[i], a[i+1] = a[i+1], a[i]\n",
    "\"\"\"\n",
    "while N <= N_max:\n",
    "    T = timeit.timeit(\n",
    "        stmt=\"a = L[:];bubble_sort(a)\",\n",
    "        setup=setup,\n",
    "        number=num_repeats,\n",
    "        globals=dict(N=N)\n",
    "    )\n",
    "    T_copy = timeit.timeit(\n",
    "        stmt=\"a = L[:]\",\n",
    "        setup=setup,\n",
    "        number=num_repeats,\n",
    "        globals=dict(N=N)\n",
    "    )\n",
    "    T -= T_copy\n",
    "    T /= num_repeats\n",
    "    N_list.append(N)\n",
    "    T_list.append(T)\n",
    "    n2_list.append(T / (N ** 2))\n",
    "    print(\"{} length done\".format(N))\n",
    "    N *= factor\n",
    "    \n",
    "plt.plot(N_list, n2_list)\n",
    "plt.xlabel(r\"${N}$\", fontsize=18)\n",
    "plt.ylabel(r\"$\\frac{T(N)}{N^2}$\", fontsize=18)\n",
    "plt.xscale('log')\n",
    "plt.yscale('log')\n",
    "plt.title('choise_sort: test time estimate $O(N^2)$', fontsize=16)\n",
    "plt.show()\n"
   ]
  },
  {
   "cell_type": "markdown",
   "metadata": {},
   "source": [
    "### Экспериментальая оценка временной сложности сортировки вставками"
   ]
  },
  {
   "cell_type": "code",
   "execution_count": 8,
   "metadata": {},
   "outputs": [
    {
     "ename": "NameError",
     "evalue": "name 'log' is not defined",
     "output_type": "error",
     "traceback": [
      "\u001b[1;31m---------------------------------------------------------------------------\u001b[0m",
      "\u001b[1;31mNameError\u001b[0m                                 Traceback (most recent call last)",
      "\u001b[1;32m<ipython-input-8-a265fbde4fe1>\u001b[0m in \u001b[0;36m<module>\u001b[1;34m\u001b[0m\n\u001b[0;32m     51\u001b[0m     \u001b[0mN_list\u001b[0m\u001b[1;33m.\u001b[0m\u001b[0mappend\u001b[0m\u001b[1;33m(\u001b[0m\u001b[0mN\u001b[0m\u001b[1;33m)\u001b[0m\u001b[1;33m\u001b[0m\u001b[0m\n\u001b[0;32m     52\u001b[0m     \u001b[0mT_list\u001b[0m\u001b[1;33m.\u001b[0m\u001b[0mappend\u001b[0m\u001b[1;33m(\u001b[0m\u001b[0mT\u001b[0m\u001b[1;33m)\u001b[0m\u001b[1;33m\u001b[0m\u001b[0m\n\u001b[1;32m---> 53\u001b[1;33m     \u001b[0mn2_list\u001b[0m\u001b[1;33m.\u001b[0m\u001b[0mappend\u001b[0m\u001b[1;33m(\u001b[0m\u001b[0mT\u001b[0m \u001b[1;33m*\u001b[0m \u001b[0mlog\u001b[0m\u001b[1;33m/\u001b[0m \u001b[1;33m(\u001b[0m\u001b[0mN\u001b[0m \u001b[1;33m**\u001b[0m\u001b[1;36m2\u001b[0m\u001b[1;33m)\u001b[0m\u001b[1;33m)\u001b[0m\u001b[1;33m\u001b[0m\u001b[0m\n\u001b[0m\u001b[0;32m     54\u001b[0m     \u001b[0mprint\u001b[0m\u001b[1;33m(\u001b[0m\u001b[1;34m\"{} length done\"\u001b[0m\u001b[1;33m.\u001b[0m\u001b[0mformat\u001b[0m\u001b[1;33m(\u001b[0m\u001b[0mN\u001b[0m\u001b[1;33m)\u001b[0m\u001b[1;33m)\u001b[0m\u001b[1;33m\u001b[0m\u001b[0m\n\u001b[0;32m     55\u001b[0m     \u001b[0mN\u001b[0m \u001b[1;33m*=\u001b[0m \u001b[0mfactor\u001b[0m\u001b[1;33m\u001b[0m\u001b[0m\n",
      "\u001b[1;31mNameError\u001b[0m: name 'log' is not defined"
     ]
    }
   ],
   "source": [
    "\n",
    "\n",
    "import timeit\n",
    "import math\n",
    "import matplotlib.pyplot as plt\n",
    "start = 8\n",
    "factor = 2\n",
    "num_points = 15\n",
    "num_repeats = 10\n",
    "N_min = start\n",
    "N_max = start * factor**(num_points - 1)\n",
    "N_list = []\n",
    "T_list = []\n",
    "nlogn_list = []\n",
    "nlogn2_list = []\n",
    "N = N_min\n",
    "setup = \"\"\"\n",
    "import random\n",
    "L=list(range(N))\n",
    "random.shuffle(L)\n",
    "def comb_sort(a):\n",
    "    shrink = 1.247\n",
    "    is_sorted = False\n",
    "    gap = len(a)\n",
    "    while is_sorted == False:\n",
    "        gap = int(gap/shrink)\n",
    "        if gap <= 1:\n",
    "            gap = 1\n",
    "            is_sorted = True\n",
    "        for i in range(len(a) - gap):\n",
    "            if a[i] > a[i+gap]:\n",
    "                a[i], a[i+gap] = a[i+gap], a[i]\n",
    "                is_sorted = False\n",
    "    return(a)\n",
    "\"\"\"\n",
    "while N <= N_max:\n",
    "    T = timeit.timeit(\n",
    "        stmt=\"a = L[:];comb_sort(a)\",\n",
    "        setup=setup,\n",
    "        number=num_repeats,\n",
    "        globals=dict(N=N)\n",
    "    )\n",
    "    T_copy = timeit.timeit(\n",
    "        stmt=\"a = L[:]\",\n",
    "        setup=setup,\n",
    "        number=num_repeats,\n",
    "        globals=dict(N=N)\n",
    "    )\n",
    "    T -= T_copy\n",
    "    T /= num_repeats\n",
    "    N_list.append(N)\n",
    "    T_list.append(T)\n",
    "    n2_list.append(T * log/ (N **2))\n",
    "    print(\"{} length done\".format(N))\n",
    "    N *= factor\n",
    "    \n",
    "plt.plot(N_list, nlogn_list)\n",
    "plt.xlabel(r\"${N}$\", fontsize=18)\n",
    "plt.ylabel(r\"$\\frac{T(N)}{N ^2}$\", fontsize=18)\n",
    "plt.xscale('log')\n",
    "plt.yscale('log')\n",
    "plt.title('timsort: test time estimate $O(N ^2)$', fontsize=16)\n",
    "plt.show()"
   ]
  },
  {
   "cell_type": "markdown",
   "metadata": {},
   "source": [
    "### Экспериментальая оценка временной сложности сортировки расческой"
   ]
  },
  {
   "cell_type": "code",
   "execution_count": null,
   "metadata": {},
   "outputs": [],
   "source": []
  },
  {
   "cell_type": "markdown",
   "metadata": {},
   "source": [
    "### Экспериментальая оценка временной сложности сортировки Шелла с делением отрезка пополам"
   ]
  },
  {
   "cell_type": "code",
   "execution_count": null,
   "metadata": {},
   "outputs": [],
   "source": []
  },
  {
   "cell_type": "markdown",
   "metadata": {},
   "source": [
    "### Упражнение 7. Слияние\n",
    "\n",
    "В двух файлах <font color=green>seq1.txt</font>, <font color=green>seq2.txt</font> записаны возрастающие последовательности целых чисел. Объедините эти последовательности в одну возрастающую последовательность и запишите ее в третий файл. Постарайтесь сделать алгоритм однопроходным.\n",
    "\n",
    "#### Пример\n",
    "\n",
    "| <font size=3>Входные последовательности</font> | <font size=3>Выходная последовательность</font> |\n",
    "| :---: | :---: |\n",
    "| <font size=3>1 3 5 7<br>2 3 4 5 6</font> | <font size=3>1 2 3 3 4 5 5 6 7</font> |"
   ]
  },
  {
   "cell_type": "code",
   "execution_count": null,
   "metadata": {},
   "outputs": [],
   "source": [
    "with open('seq1.txt', 'r') as f:\n",
    "    input_str = f.read()\n",
    "    seq1 = list(map(int, input_str.split()))\n",
    "    print(seq1)\n",
    "\n",
    "with open('seq2.txt', 'r') as f:\n",
    "    input_str = f.read()\n",
    "    seq2 = list(map(int, input_str.split()))\n",
    "    print(seq2)\n",
    "\n",
    "def merge(input_seq1, input_seq2):\n",
    "    i, j = 0, 0\n",
    "    output_list = []\n",
    "    output_string = \"\"\n",
    "    while i < len(input_seq1) or j < len(input_seq2):\n",
    "        if i < len(input_seq1):\n",
    "            if j == len(input_seq2) or input_seq1[i] <= input_seq2[j]:\n",
    "                output_list.append(input_seq1[i])\n",
    "                i += 1\n",
    "        if j < len(input_seq2):\n",
    "            if i == len(input_seq1) or input_seq1[i] > input_seq2[j]:\n",
    "                output_list.append(input_seq2[j])\n",
    "                j += 1\n",
    "    for i in range(len(output_list)):\n",
    "        output_string += str(output_list[i])\n",
    "        if not i == len(output_list) - 1: output_string += \" \"\n",
    "    with open('seq3.txt', 'w') as f:\n",
    "        f.write(output_string)\n",
    "\n",
    "merge(seq1, seq2)"
   ]
  }
 ],
 "metadata": {
  "kernelspec": {
   "display_name": "Python 3",
   "language": "python",
   "name": "python3"
  },
  "language_info": {
   "codemirror_mode": {
    "name": "ipython",
    "version": 3
   },
   "file_extension": ".py",
   "mimetype": "text/x-python",
   "name": "python",
   "nbconvert_exporter": "python",
   "pygments_lexer": "ipython3",
   "version": "3.6.6rc1"
  }
 },
 "nbformat": 4,
 "nbformat_minor": 2
}
